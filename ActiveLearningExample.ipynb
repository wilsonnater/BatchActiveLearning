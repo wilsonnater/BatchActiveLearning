{
 "cells": [
  {
   "cell_type": "code",
   "execution_count": null,
   "metadata": {},
   "outputs": [],
   "source": [
    "import numpy as np\n",
    "from sklearn.linear_model import Ridge\n",
    "from sklearn.metrics import mean_squared_error as MSE\n",
    "from sklearn.datasets import load_diabetes\n",
    "\n",
    "from BatchActiveLearning import BatchActiveLearning"
   ]
  },
  {
   "cell_type": "code",
   "execution_count": null,
   "metadata": {},
   "outputs": [],
   "source": [
    "model=Ridge(0.0001)\n",
    "\n",
    "BAL=BatchActiveLearning(BootStrapSize=0.8,Num_Models=10,alpha=0.9,seed=None)\n",
    "\n",
    "Alldata=load_diabetes()\n",
    "AllX=Alldata['data']\n",
    "AllY=Alldata['target']\n",
    "\n",
    "X=AllX[:10]\n",
    "Y=AllY[:10]\n",
    "\n",
    "UnlabeledX=AllX[10:]\n",
    "UnlabeledY=AllY[10:]"
   ]
  },
  {
   "cell_type": "code",
   "execution_count": 20,
   "metadata": {
    "scrolled": true
   },
   "outputs": [
    {
     "name": "stdout",
     "output_type": "stream",
     "text": [
      "27453.634525503247\n",
      "13931.948931588662\n",
      "5609.348757901033\n",
      "5350.379159932795\n",
      "5214.168508115376\n",
      "5406.90640539241\n",
      "5416.109921767876\n",
      "4028.189321052463\n",
      "4141.054809054958\n",
      "4738.28457047396\n",
      "4436.51316827731\n",
      "5266.670528574344\n",
      "4460.625818153765\n",
      "3947.754164564689\n",
      "3915.048684343502\n",
      "3598.0716759472434\n",
      "3535.935252068609\n",
      "3664.705686055101\n",
      "3434.308568367419\n",
      "3317.596576765165\n",
      "3284.1457676702507\n",
      "3314.5441087290246\n",
      "3129.6167017498046\n",
      "3172.5317591951266\n",
      "3157.241789533673\n"
     ]
    }
   ],
   "source": [
    "for i in range(25):\n",
    "    \n",
    "    model.fit(X,Y)\n",
    "    print(MSE(AllY,model.predict(AllX)))\n",
    "    \n",
    "    NextBatch=BAL.GetBatch(model,UnlabeledX,X,Y,10)\n",
    "    X=np.concatenate([X,UnlabeledX[NextBatch]])\n",
    "    Y=np.concatenate([Y,UnlabeledY[NextBatch]])\n",
    "    \n",
    "    UnlabeledX=np.delete(UnlabeledX,NextBatch,axis=0)\n",
    "    UnlabeledY=np.delete(UnlabeledY,NextBatch,axis=0)"
   ]
  }
 ],
 "metadata": {
  "kernelspec": {
   "display_name": "Python 3",
   "language": "python",
   "name": "python3"
  },
  "language_info": {
   "codemirror_mode": {
    "name": "ipython",
    "version": 3
   },
   "file_extension": ".py",
   "mimetype": "text/x-python",
   "name": "python",
   "nbconvert_exporter": "python",
   "pygments_lexer": "ipython3",
   "version": "3.7.6"
  }
 },
 "nbformat": 4,
 "nbformat_minor": 4
}
